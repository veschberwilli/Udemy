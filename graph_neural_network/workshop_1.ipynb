{
 "cells": [
  {
   "cell_type": "code",
   "execution_count": 25,
   "metadata": {},
   "outputs": [],
   "source": [
    "import torch\n",
    "from torch_geometric.data import Data\n",
    "import networkx as nx\n",
    "from torch_geometric.utils.convert import to_networkx\n",
    "import matplotlib.pyplot as plt"
   ]
  },
  {
   "cell_type": "code",
   "execution_count": 26,
   "metadata": {},
   "outputs": [],
   "source": [
    "\" Define a graph \"\n",
    "# a graph with 4 nodes\n",
    "edge_list = torch.tensor([\n",
    "                         [0, 0, 0, 1, 2, 2, 3, 3], # Source Nodes\n",
    "                         [1, 2, 3, 0, 0, 3, 2, 0]  # Target Nodes\n",
    "                        ], dtype=torch.long)\n",
    "\n",
    "# 6 Features for each node (4x6 - Number of nodes x NUmber of features)\n",
    "node_features = torch.tensor([\n",
    "                            [-8, 1, 5, 8, 2, -3], # Features of Node 0\n",
    "                            [-1, 0, 2, -3, 0, 1], # Features of Node 1\n",
    "                            [1, -1, 0, -1, 2, 1], # Features of Node 2\n",
    "                            [0, 1, 4, -2, 3, 4], # Features of Node 3\n",
    "                            ],dtype=torch.long)\n",
    "\n",
    "# 1 Weight for each edge \n",
    "edge_weight = torch.tensor([\n",
    "                            [35.], # Weight for nodes (0,1)\n",
    "                            [48.], # Weight for nodes (0,2)\n",
    "                            [12.], # Weight for nodes (0,3)\n",
    "                            [10.], # Weight for nodes (1,0)\n",
    "                            [70.], # Weight for nodes (2,0)\n",
    "                            [5.], # Weight for nodes (2,3)\n",
    "                            [15.], # Weight for nodes (3,2)\n",
    "                            [8.], # Weight for nodes (3,0)   \n",
    "                            ],dtype=torch.long)\n",
    "\n",
    "# Make a data object to store graph informaiton \n",
    "data = Data(x=node_features, edge_index=edge_list, edge_attr=edge_weight)\n"
   ]
  },
  {
   "cell_type": "code",
   "execution_count": 27,
   "metadata": {},
   "outputs": [
    {
     "name": "stdout",
     "output_type": "stream",
     "text": [
      "Number of nodes:  4\n",
      "Number of edges:  8\n",
      "Number of features per node (Length of feature vector):  6 \n",
      "\n",
      "Number of weights per edge (edge-features):  1 \n",
      "\n"
     ]
    }
   ],
   "source": [
    "\" Print the graph info \"\n",
    "print(\"Number of nodes: \", data.num_nodes)\n",
    "print(\"Number of edges: \",data.num_edges)\n",
    "print(\"Number of features per node (Length of feature vector): \", data.num_node_features,\"\\n\")\n",
    "print(\"Number of weights per edge (edge-features): \", data.num_edge_features, \"\\n\")"
   ]
  },
  {
   "cell_type": "code",
   "execution_count": 28,
   "metadata": {},
   "outputs": [
    {
     "data": {
      "image/png": "[encoded data removed]",
      "text/plain": [
       "<Figure size 432x288 with 1 Axes>"
      ]
     },
     "metadata": {},
     "output_type": "display_data"
    }
   ],
   "source": [
    "\" Plot the graph \"\n",
    "\n",
    "G = to_networkx(data)\n",
    "nx.draw_networkx(G)\n",
    "plt.show()"
   ]
  }
 ],
 "metadata": {
  "kernelspec": {
   "display_name": "Python 3.6.9 64-bit",
   "language": "python",
   "name": "python3"
  },
  "language_info": {
   "codemirror_mode": {
    "name": "ipython",
    "version": 3
   },
   "file_extension": ".py",
   "mimetype": "text/x-python",
   "name": "python",
   "nbconvert_exporter": "python",
   "pygments_lexer": "ipython3",
   "version": "3.6.9"
  },
  "orig_nbformat": 4,
  "vscode": {
   "interpreter": {
    "hash": "31f2aee4e71d21fbe5cf8b01ff0e069b9275f58929596ceb00d14d90e3e16cd6"
   }
  }
 },
 "nbformat": 4,
 "nbformat_minor": 2
}
