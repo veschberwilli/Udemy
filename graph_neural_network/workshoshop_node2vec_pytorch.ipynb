{
 "cells": [
  {
   "cell_type": "code",
   "execution_count": 2,
   "metadata": {},
   "outputs": [
    {
     "data": {
      "text/plain": [
       "True"
      ]
     },
     "execution_count": 2,
     "metadata": {},
     "output_type": "execute_result"
    }
   ],
   "source": [
    "# Node2Vec Model Using torch geometric with Cora\n",
    "import torch\n",
    "from torch_geometric.datasets import Planetoid\n",
    "import os\n",
    "from torch_geometric.nn import Node2Vec\n",
    "from sklearn.manifold import TSNE\n",
    "import matplotlib.pyplot as plt\n",
    "\n",
    "torch.cuda.is_available()"
   ]
  },
  {
   "cell_type": "code",
   "execution_count": 3,
   "metadata": {},
   "outputs": [],
   "source": [
    "# DOWNLOAD DATA\n",
    "#os.environ['http_proxy'] = \"http://proxy-sifi.rd.corpintra.net:3128\" \n",
    "#os.environ['https_proxy'] = \"http://proxy-sifi.rd.corpintra.net:3128\"\n",
    "path = os.getcwd()\n",
    "dataset = Planetoid(path, \"Cora\")\n"
   ]
  },
  {
   "cell_type": "code",
   "execution_count": 4,
   "metadata": {},
   "outputs": [
    {
     "name": "stdout",
     "output_type": "stream",
     "text": [
      "Coda:  Data(x=[2708, 1433], edge_index=[2, 10556], y=[2708], train_mask=[2708], val_mask=[2708], test_mask=[2708])\n"
     ]
    }
   ],
   "source": [
    "# IMPORT DATA\n",
    "data = dataset[0]\n",
    "print('Coda: ', data)\n",
    "\n",
    "device = 'cuda' if torch.cuda.is_available() else 'cpu'"
   ]
  },
  {
   "cell_type": "code",
   "execution_count": 13,
   "metadata": {},
   "outputs": [],
   "source": [
    "# CONSTRUCT THE MODEL\n",
    "Node2Vec_model = Node2Vec(data.edge_index, embedding_dim=128, walk_length=20, context_size=10,\n",
    "                 walks_per_node=10, p=1, q=1, num_negative_samples=1,\n",
    "                 num_nodes=None, sparse=True).to(device)\n",
    "\n",
    "loader = Node2Vec_model.loader(batch_size=128, shuffle=True, num_workers=4) # for batch training\n",
    "optimizer = torch.optim.SparseAdam(list(Node2Vec_model.parameters()), # list of parameters\n",
    "                                    lr = 0.01 # learning rate\n",
    "                                    )"
   ]
  },
  {
   "cell_type": "code",
   "execution_count": 14,
   "metadata": {},
   "outputs": [
    {
     "name": "stdout",
     "output_type": "stream",
     "text": [
      "Epoch: 01, Loss: 8.0750\n",
      "Epoch: 02, Loss: 6.0346\n",
      "Epoch: 03, Loss: 4.9298\n",
      "Epoch: 04, Loss: 4.1237\n",
      "Epoch: 05, Loss: 3.4591\n",
      "Epoch: 06, Loss: 2.9418\n",
      "Epoch: 07, Loss: 2.5316\n",
      "Epoch: 08, Loss: 2.2114\n",
      "Epoch: 09, Loss: 1.9455\n",
      "Epoch: 10, Loss: 1.7301\n",
      "Epoch: 11, Loss: 1.5624\n",
      "Epoch: 12, Loss: 1.4257\n",
      "Epoch: 13, Loss: 1.3136\n",
      "Epoch: 14, Loss: 1.2273\n",
      "Epoch: 15, Loss: 1.1588\n",
      "Epoch: 16, Loss: 1.1017\n",
      "Epoch: 17, Loss: 1.0572\n",
      "Epoch: 18, Loss: 1.0215\n",
      "Epoch: 19, Loss: 0.9927\n",
      "Epoch: 20, Loss: 0.9692\n",
      "Epoch: 21, Loss: 0.9516\n",
      "Epoch: 22, Loss: 0.9327\n",
      "Epoch: 23, Loss: 0.9217\n",
      "Epoch: 24, Loss: 0.9106\n",
      "Epoch: 25, Loss: 0.9005\n",
      "Epoch: 26, Loss: 0.8926\n",
      "Epoch: 27, Loss: 0.8857\n",
      "Epoch: 28, Loss: 0.8804\n",
      "Epoch: 29, Loss: 0.8739\n",
      "Epoch: 30, Loss: 0.8690\n",
      "Epoch: 31, Loss: 0.8649\n",
      "Epoch: 32, Loss: 0.8624\n",
      "Epoch: 33, Loss: 0.8578\n",
      "Epoch: 34, Loss: 0.8552\n",
      "Epoch: 35, Loss: 0.8538\n",
      "Epoch: 36, Loss: 0.8511\n",
      "Epoch: 37, Loss: 0.8490\n",
      "Epoch: 38, Loss: 0.8461\n",
      "Epoch: 39, Loss: 0.8462\n",
      "Epoch: 40, Loss: 0.8437\n",
      "Epoch: 41, Loss: 0.8421\n",
      "Epoch: 42, Loss: 0.8402\n",
      "Epoch: 43, Loss: 0.8389\n",
      "Epoch: 44, Loss: 0.8386\n",
      "Epoch: 45, Loss: 0.8359\n",
      "Epoch: 46, Loss: 0.8364\n",
      "Epoch: 47, Loss: 0.8367\n",
      "Epoch: 48, Loss: 0.8362\n",
      "Epoch: 49, Loss: 0.8333\n",
      "Epoch: 50, Loss: 0.8330\n",
      "Epoch: 51, Loss: 0.8340\n",
      "Epoch: 52, Loss: 0.8326\n",
      "Epoch: 53, Loss: 0.8320\n",
      "Epoch: 54, Loss: 0.8305\n",
      "Epoch: 55, Loss: 0.8301\n",
      "Epoch: 56, Loss: 0.8298\n",
      "Epoch: 57, Loss: 0.8304\n",
      "Epoch: 58, Loss: 0.8294\n",
      "Epoch: 59, Loss: 0.8288\n",
      "Epoch: 60, Loss: 0.8298\n",
      "Epoch: 61, Loss: 0.8301\n",
      "Epoch: 62, Loss: 0.8288\n",
      "Epoch: 63, Loss: 0.8289\n",
      "Epoch: 64, Loss: 0.8270\n",
      "Epoch: 65, Loss: 0.8281\n",
      "Epoch: 66, Loss: 0.8284\n",
      "Epoch: 67, Loss: 0.8267\n",
      "Epoch: 68, Loss: 0.8275\n",
      "Epoch: 69, Loss: 0.8276\n",
      "Epoch: 70, Loss: 0.8261\n",
      "Epoch: 71, Loss: 0.8283\n",
      "Epoch: 72, Loss: 0.8258\n",
      "Epoch: 73, Loss: 0.8268\n",
      "Epoch: 74, Loss: 0.8267\n",
      "Epoch: 75, Loss: 0.8270\n",
      "Epoch: 76, Loss: 0.8266\n",
      "Epoch: 77, Loss: 0.8262\n",
      "Epoch: 78, Loss: 0.8265\n",
      "Epoch: 79, Loss: 0.8252\n",
      "Epoch: 80, Loss: 0.8259\n",
      "Epoch: 81, Loss: 0.8258\n",
      "Epoch: 82, Loss: 0.8253\n",
      "Epoch: 83, Loss: 0.8247\n",
      "Epoch: 84, Loss: 0.8267\n",
      "Epoch: 85, Loss: 0.8245\n",
      "Epoch: 86, Loss: 0.8264\n",
      "Epoch: 87, Loss: 0.8247\n",
      "Epoch: 88, Loss: 0.8252\n",
      "Epoch: 89, Loss: 0.8248\n",
      "Epoch: 90, Loss: 0.8256\n",
      "Epoch: 91, Loss: 0.8248\n",
      "Epoch: 92, Loss: 0.8241\n",
      "Epoch: 93, Loss: 0.8244\n",
      "Epoch: 94, Loss: 0.8238\n",
      "Epoch: 95, Loss: 0.8253\n",
      "Epoch: 96, Loss: 0.8250\n",
      "Epoch: 97, Loss: 0.8243\n",
      "Epoch: 98, Loss: 0.8245\n",
      "Epoch: 99, Loss: 0.8247\n",
      "Epoch: 100, Loss: 0.8239\n"
     ]
    }
   ],
   "source": [
    "# TRAIN FUNCTION\n",
    "def train():\n",
    "    Node2Vec_model.train()\n",
    "    total_loss = 0\n",
    "    for pos_rw, neg_rw in loader:\n",
    "        optimizer.zero_grad()\n",
    "        loss = Node2Vec_model.loss(pos_rw.to(device), neg_rw.to(device))\n",
    "        loss.backward()\n",
    "        optimizer.step()\n",
    "        total_loss += loss.item()\n",
    "    return total_loss / len(loader)\n",
    "    \n",
    "# OBTAIN EMBEDDING REPRESENTATION\n",
    "for epoch in range(1,101):\n",
    "    loss = train()\n",
    "    print(f'Epoch: {epoch:02d}, Loss: {loss:.4f}')"
   ]
  },
  {
   "cell_type": "code",
   "execution_count": 15,
   "metadata": {},
   "outputs": [
    {
     "name": "stderr",
     "output_type": "stream",
     "text": [
      "/home/ubuntu/.local/lib/python3.8/site-packages/sklearn/manifold/_t_sne.py:795: FutureWarning: The default initialization in TSNE will change from 'random' to 'pca' in 1.2.\n",
      "  warnings.warn(\n",
      "/home/ubuntu/.local/lib/python3.8/site-packages/sklearn/manifold/_t_sne.py:805: FutureWarning: The default learning rate in TSNE will change from 200.0 to 'auto' in 1.2.\n",
      "  warnings.warn(\n"
     ]
    },
    {
     "data": {
      "image/png": "[encoded data removed]",
      "text/plain": [
       "<Figure size 432x288 with 1 Axes>"
      ]
     },
     "metadata": {
      "needs_background": "light"
     },
     "output_type": "display_data"
    }
   ],
   "source": [
    "# PLOT 2D OF EMBEDDED REPRESENTATION\n",
    "@torch.no_grad() # deactivate autograd functionality\n",
    "def plot_point(colors):\n",
    "    Node2Vec_model.eval() # evalutae the model based on the trained parameters\n",
    "    z = Node2Vec_model(torch.arange(data.num_nodes, device=device)) # embedding rep\n",
    "    z = TSNE(n_components=2).fit_transform(z.cpu().numpy())\n",
    "    y = data.y.cpu().numpy()\n",
    "\n",
    "    plt.figure()\n",
    "    for i in range(dataset.num_classes):\n",
    "        plt.scatter(z[y==i,0], z[y==i,1],s=20,color=colors[i])\n",
    "    plt.axis('off')\n",
    "    plt.show()\n",
    "\n",
    "colors = [\n",
    "        '#ffc0cb', '#bada55', '#008080', '#420420', '#7fe5f0', '#065535',\n",
    "        '#ffd700'\n",
    "    ]\n",
    "plot_point(colors)\n",
    "\n"
   ]
  },
  {
   "cell_type": "code",
   "execution_count": null,
   "metadata": {},
   "outputs": [],
   "source": [
    "# NODE CLASSIFICATION"
   ]
  }
 ],
 "metadata": {
  "kernelspec": {
   "display_name": "Python 3.8.10 64-bit",
   "language": "python",
   "name": "python3"
  },
  "language_info": {
   "codemirror_mode": {
    "name": "ipython",
    "version": 3
   },
   "file_extension": ".py",
   "mimetype": "text/x-python",
   "name": "python",
   "nbconvert_exporter": "python",
   "pygments_lexer": "ipython3",
   "version": "3.8.10"
  },
  "orig_nbformat": 4,
  "vscode": {
   "interpreter": {
    "hash": "767d51c1340bd893661ea55ea3124f6de3c7a262a8b4abca0554b478b1e2ff90"
   }
  }
 },
 "nbformat": 4,
 "nbformat_minor": 2
}
