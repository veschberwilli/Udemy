{
 "cells": [
  {
   "cell_type": "code",
   "execution_count": null,
   "metadata": {},
   "outputs": [],
   "source": [
    "# Node2Vec Model Using torch geometric with Cora\n",
    "import torch\n",
    "from torch_geometric.datasets import Planetoid\n",
    "import os\n",
    "from torch_geometric.nn import Node2Vec\n",
    "from sklearn.manifold import TSNE\n",
    "import matplotlib.pyplot as plt\n",
    "\n",
    "torch.cuda.is_available()"
   ]
  },
  {
   "cell_type": "code",
   "execution_count": null,
   "metadata": {},
   "outputs": [],
   "source": [
    "# DOWNLOAD DATA\n",
    "#os.environ['http_proxy'] = \"http://proxy-sifi.rd.corpintra.net:3128\" \n",
    "#os.environ['https_proxy'] = \"http://proxy-sifi.rd.corpintra.net:3128\"\n",
    "path = os.getcwd()\n",
    "dataset = Planetoid(path, \"Cora\")"
   ]
  },
  {
   "cell_type": "code",
   "execution_count": null,
   "metadata": {},
   "outputs": [],
   "source": [
    "# IMPORT DATA\n",
    "data = dataset[0]\n",
    "print('Coda: ', data)"
   ]
  },
  {
   "cell_type": "code",
   "execution_count": null,
   "metadata": {},
   "outputs": [],
   "source": [
    "# CONSTRUCT THE MODEL\n",
    "device = 'cuda' if torch.cuda.is_available() else 'cpu'\n",
    "\n",
    "Node2Vec_model = Node2Vec(data.edge_index, embedding_dim=128, walk_length=20, context_size=10,\n",
    "                 walks_per_node=10, p=1, q=1, num_negative_samples=1,\n",
    "                 num_nodes=None, sparse=True).to(device)\n",
    "\n",
    "loader = Node2Vec_model.loader(batch_size=128, shuffle=True, num_workers=4) # for batch training\n",
    "optimizer = torch.optim.SparseAdam(list(Node2Vec_model.parameters()), # list of parameters\n",
    "                                    lr = 0.01 # learning rate\n",
    "                                    )"
   ]
  },
  {
   "cell_type": "code",
   "execution_count": null,
   "metadata": {},
   "outputs": [],
   "source": [
    "# PLOT 2D OF EMBEDDED REPRESENTATION (BEFORE TRAINING!)\n",
    "@torch.no_grad() # deactivate autograd functionality\n",
    "def plot_point(colors):\n",
    "    Node2Vec_model.eval() # evalutae the model based on the trained parameters\n",
    "    z = Node2Vec_model(torch.arange(data.num_nodes, device=device)) # embedding rep\n",
    "    z = TSNE(n_components=2).fit_transform(z.cpu().numpy())\n",
    "    y = data.y.cpu().numpy()\n",
    "\n",
    "    plt.figure()\n",
    "    for i in range(dataset.num_classes):\n",
    "        plt.scatter(z[y==i,0], z[y==i,1],s=20,color=colors[i])\n",
    "    plt.axis('off')\n",
    "    plt.show()\n",
    "\n",
    "colors = [\n",
    "        '#ffc0cb', '#bada55', '#008080', '#420420', '#7fe5f0', '#065535',\n",
    "        '#ffd700'\n",
    "    ]\n",
    "plot_point(colors)\n"
   ]
  },
  {
   "cell_type": "code",
   "execution_count": null,
   "metadata": {},
   "outputs": [],
   "source": [
    "# TRAIN FUNCTION\n",
    "def train():\n",
    "    Node2Vec_model.train()\n",
    "    total_loss = 0\n",
    "    for pos_rw, neg_rw in loader:\n",
    "        optimizer.zero_grad()\n",
    "        loss = Node2Vec_model.loss(pos_rw.to(device), neg_rw.to(device))\n",
    "        loss.backward()\n",
    "        optimizer.step()\n",
    "        total_loss += loss.item()\n",
    "    return total_loss / len(loader)\n",
    "    \n",
    "# OBTAIN EMBEDDING REPRESENTATION\n",
    "for epoch in range(1,101):\n",
    "    loss = train()\n",
    "    print(f'Epoch: {epoch:02d}, Loss: {loss:.4f}')\n",
    "    plot_point(colors)"
   ]
  },
  {
   "cell_type": "code",
   "execution_count": null,
   "metadata": {},
   "outputs": [],
   "source": [
    "# PLOT 2D OF EMBEDDED REPRESENTATION\n",
    "plot_point(colors)\n",
    "\n"
   ]
  },
  {
   "cell_type": "code",
   "execution_count": null,
   "metadata": {},
   "outputs": [],
   "source": [
    "# NODE CLASSIFICATION\n",
    "def test():\n",
    "    Node2Vec_model.eval() # Evaluate the model based on the trained parameters\n",
    "    z = Node2Vec_model() # evaluate the model based on the trained parameters\n",
    "    acc = Node2Vec_model.test(  z[data.train_mask], data.y[data.train_mask],\n",
    "                                z[data.test_mask], data.y[data.test_mask],\n",
    "                                max_iter=150)\n",
    "    return acc\n",
    "\n",
    "print('Accuracy: ', test())\n"
   ]
  }
 ],
 "metadata": {
  "kernelspec": {
   "display_name": "Python 3.8.10 64-bit",
   "language": "python",
   "name": "python3"
  },
  "language_info": {
   "codemirror_mode": {
    "name": "ipython",
    "version": 3
   },
   "file_extension": ".py",
   "mimetype": "text/x-python",
   "name": "python",
   "nbconvert_exporter": "python",
   "pygments_lexer": "ipython3",
   "version": "3.8.10"
  },
  "orig_nbformat": 4,
  "vscode": {
   "interpreter": {
    "hash": "767d51c1340bd893661ea55ea3124f6de3c7a262a8b4abca0554b478b1e2ff90"
   }
  }
 },
 "nbformat": 4,
 "nbformat_minor": 2
}
