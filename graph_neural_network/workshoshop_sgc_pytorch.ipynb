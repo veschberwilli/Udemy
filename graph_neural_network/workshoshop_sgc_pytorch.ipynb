{
 "cells": [
  {
   "cell_type": "code",
   "execution_count": 22,
   "metadata": {},
   "outputs": [
    {
     "data": {
      "text/plain": [
       "True"
      ]
     },
     "execution_count": 22,
     "metadata": {},
     "output_type": "execute_result"
    }
   ],
   "source": [
    "# https://github.com/pyg-team/pytorch_geometric/blob/master/examples/sgc.py\n",
    "# SGC Model Using torch geometric with Cora\n",
    "import torch\n",
    "from torch_geometric.datasets import Planetoid # The citation network datasets \"Cora\", \"CiteSeer\" and \"PubMed\"\n",
    "import os\n",
    "from torch_geometric.nn import SGConv\n",
    "from sklearn.manifold import TSNE\n",
    "import matplotlib.pyplot as plt\n",
    "import torch.nn.functional as F\n",
    "\n",
    "torch.cuda.is_available()"
   ]
  },
  {
   "cell_type": "code",
   "execution_count": 23,
   "metadata": {},
   "outputs": [],
   "source": [
    "# DOWNLOAD DATA\n",
    "path = os.getcwd()\n",
    "dataset = Planetoid(path, \"Cora\")"
   ]
  },
  {
   "cell_type": "code",
   "execution_count": 24,
   "metadata": {},
   "outputs": [
    {
     "name": "stdout",
     "output_type": "stream",
     "text": [
      "Coda:  Data(x=[2708, 1433], edge_index=[2, 10556], y=[2708], train_mask=[2708], val_mask=[2708], test_mask=[2708])\n"
     ]
    }
   ],
   "source": [
    "# IMPORT DATA\n",
    "data = dataset[0]\n",
    "print('Coda: ', data)"
   ]
  },
  {
   "cell_type": "code",
   "execution_count": 25,
   "metadata": {},
   "outputs": [],
   "source": [
    "device = 'cuda' if torch.cuda.is_available() else 'cpu'"
   ]
  },
  {
   "cell_type": "code",
   "execution_count": 26,
   "metadata": {},
   "outputs": [],
   "source": [
    "# CONSTRUCT THE MODEL\n",
    "sgc_model = SGConv( in_channels=data.num_features, # nr of features\n",
    "                    out_channels=dataset.num_classes, # dimension of embedding\n",
    "                    K = 1,\n",
    "                    cached=True\n",
    ")\n"
   ]
  },
  {
   "cell_type": "code",
   "execution_count": 27,
   "metadata": {},
   "outputs": [
    {
     "name": "stdout",
     "output_type": "stream",
     "text": [
      "Shape of the original data:  torch.Size([2708, 1433])\n",
      "Shape of the embeddeding data:  torch.Size([2708, 7])\n"
     ]
    }
   ],
   "source": [
    "# GET EMBEDDING\n",
    "print(\"Shape of the original data: \", data.x.shape)\n",
    "print(\"Shape of the embeddeding data: \", sgc_model(data.x, data.edge_index).shape)"
   ]
  },
  {
   "cell_type": "code",
   "execution_count": 28,
   "metadata": {},
   "outputs": [],
   "source": [
    "# CONSTRUCT THE MODEL FOR CLASSIFICATION\n",
    "class SGCNet(torch.nn.Module):\n",
    "    def __init__(self):\n",
    "        super().__init__()\n",
    "        self.conv1 = SGConv(in_channels=data.num_features, # nr of features\n",
    "                    out_channels=dataset.num_classes, # dimension of embedding\n",
    "                    K = 1,\n",
    "                    cached=True\n",
    "        )\n",
    "\n",
    "    def forward(self):\n",
    "        x = self.conv1(data.x, data.edge_index) # applying convolution to data\n",
    "        # computation of log softmax\n",
    "\n",
    "        return F.log_softmax(x, dim=1) "
   ]
  },
  {
   "cell_type": "code",
   "execution_count": 29,
   "metadata": {},
   "outputs": [
    {
     "name": "stdout",
     "output_type": "stream",
     "text": [
      "Parameter conv1.lin.weight\n",
      "Shape:  torch.Size([7, 1433])\n",
      "Parameter conv1.lin.bias\n",
      "Shape:  torch.Size([7])\n"
     ]
    }
   ],
   "source": [
    "sgc_model, data = SGCNet().to(device), data.to(device)\n",
    "optimizer = torch.optim.Adam(sgc_model.parameters(), lr=0.2, weight_decay=0.005)\n",
    "\n",
    "# What are the learning parameters:\n",
    "for i, parameter in sgc_model.named_parameters():\n",
    "    print(\"Parameter {}\".format(i))\n",
    "    print(\"Shape: \", parameter.shape)"
   ]
  },
  {
   "cell_type": "code",
   "execution_count": 32,
   "metadata": {},
   "outputs": [],
   "source": [
    "# TRAIN FUNCTION\n",
    "def train():\n",
    "    sgc_model.train() # set the model.training to be True\n",
    "    optimizer.zero_grad() # Reset the gradient\n",
    "    predicted_y = sgc_model() # predicted y in log softmax probability\n",
    "    true_y = data.y # true labels\n",
    "    losses = F.nll_loss(predicted_y[data.train_mask], true_y[data.train_mask])\n",
    "    losses.backward()\n",
    "    optimizer.step() # update the params such that is minimized the losses\n",
    "\n",
    "# TEST FUNCTION\n",
    "def test():\n",
    "    sgc_model.eval() # set the model.training to be false\n",
    "    logits = sgc_model() # log probability of all data\n",
    "    accs = []\n",
    "    for _, mask in data('train_mask', 'val_mask', 'test_mask'):\n",
    "        pred = logits[mask].max(1)[1]\n",
    "        acc = pred.eq(data.y[mask]).sum().item() / mask.sum().item()\n",
    "        accs.append(acc)\n",
    "    return accs"
   ]
  },
  {
   "cell_type": "code",
   "execution_count": 33,
   "metadata": {},
   "outputs": [
    {
     "name": "stdout",
     "output_type": "stream",
     "text": [
      "Epoch: 001, Train: 0.9643, Val: 0.5600, Test: 0.5970\n",
      "Epoch: 002, Train: 0.9929, Val: 0.7300, Test: 0.7580\n",
      "Epoch: 003, Train: 0.9929, Val: 0.7300, Test: 0.7580\n",
      "Epoch: 004, Train: 1.0000, Val: 0.7380, Test: 0.7510\n",
      "Epoch: 005, Train: 0.9857, Val: 0.7380, Test: 0.7510\n",
      "Epoch: 006, Train: 0.9857, Val: 0.7380, Test: 0.7510\n",
      "Epoch: 007, Train: 1.0000, Val: 0.7380, Test: 0.7510\n",
      "Epoch: 008, Train: 1.0000, Val: 0.7380, Test: 0.7510\n",
      "Epoch: 009, Train: 1.0000, Val: 0.7380, Test: 0.7510\n",
      "Epoch: 010, Train: 0.9929, Val: 0.7380, Test: 0.7510\n",
      "Epoch: 011, Train: 0.9929, Val: 0.7440, Test: 0.7690\n",
      "Epoch: 012, Train: 1.0000, Val: 0.7540, Test: 0.7730\n",
      "Epoch: 013, Train: 1.0000, Val: 0.7680, Test: 0.7740\n",
      "Epoch: 014, Train: 1.0000, Val: 0.7680, Test: 0.7740\n",
      "Epoch: 015, Train: 1.0000, Val: 0.7680, Test: 0.7740\n",
      "Epoch: 016, Train: 1.0000, Val: 0.7680, Test: 0.7740\n",
      "Epoch: 017, Train: 1.0000, Val: 0.7680, Test: 0.7740\n",
      "Epoch: 018, Train: 1.0000, Val: 0.7680, Test: 0.7740\n",
      "Epoch: 019, Train: 1.0000, Val: 0.7680, Test: 0.7740\n",
      "Epoch: 020, Train: 1.0000, Val: 0.7680, Test: 0.7740\n",
      "Epoch: 021, Train: 1.0000, Val: 0.7680, Test: 0.7740\n",
      "Epoch: 022, Train: 0.9929, Val: 0.7680, Test: 0.7740\n",
      "Epoch: 023, Train: 1.0000, Val: 0.7680, Test: 0.7740\n",
      "Epoch: 024, Train: 1.0000, Val: 0.7680, Test: 0.7740\n",
      "Epoch: 025, Train: 1.0000, Val: 0.7680, Test: 0.7740\n",
      "Epoch: 026, Train: 1.0000, Val: 0.7680, Test: 0.7740\n",
      "Epoch: 027, Train: 1.0000, Val: 0.7680, Test: 0.7740\n",
      "Epoch: 028, Train: 1.0000, Val: 0.7680, Test: 0.7740\n",
      "Epoch: 029, Train: 1.0000, Val: 0.7680, Test: 0.7740\n",
      "Epoch: 030, Train: 1.0000, Val: 0.7680, Test: 0.7740\n",
      "Epoch: 031, Train: 1.0000, Val: 0.7680, Test: 0.7740\n",
      "Epoch: 032, Train: 1.0000, Val: 0.7680, Test: 0.7740\n",
      "Epoch: 033, Train: 1.0000, Val: 0.7680, Test: 0.7740\n",
      "Epoch: 034, Train: 1.0000, Val: 0.7680, Test: 0.7740\n",
      "Epoch: 035, Train: 1.0000, Val: 0.7680, Test: 0.7740\n",
      "Epoch: 036, Train: 1.0000, Val: 0.7680, Test: 0.7740\n",
      "Epoch: 037, Train: 1.0000, Val: 0.7680, Test: 0.7740\n",
      "Epoch: 038, Train: 1.0000, Val: 0.7680, Test: 0.7740\n",
      "Epoch: 039, Train: 1.0000, Val: 0.7680, Test: 0.7740\n",
      "Epoch: 040, Train: 1.0000, Val: 0.7680, Test: 0.7740\n",
      "Epoch: 041, Train: 1.0000, Val: 0.7820, Test: 0.7930\n",
      "Epoch: 042, Train: 1.0000, Val: 0.7820, Test: 0.7930\n",
      "Epoch: 043, Train: 1.0000, Val: 0.7820, Test: 0.7930\n",
      "Epoch: 044, Train: 1.0000, Val: 0.7820, Test: 0.7930\n",
      "Epoch: 045, Train: 1.0000, Val: 0.7820, Test: 0.7930\n",
      "Epoch: 046, Train: 1.0000, Val: 0.7820, Test: 0.7930\n",
      "Epoch: 047, Train: 1.0000, Val: 0.7820, Test: 0.7930\n",
      "Epoch: 048, Train: 1.0000, Val: 0.7820, Test: 0.7930\n",
      "Epoch: 049, Train: 1.0000, Val: 0.7820, Test: 0.7930\n",
      "Epoch: 050, Train: 1.0000, Val: 0.7820, Test: 0.7930\n",
      "Epoch: 051, Train: 1.0000, Val: 0.7820, Test: 0.7930\n",
      "Epoch: 052, Train: 1.0000, Val: 0.7820, Test: 0.7930\n",
      "Epoch: 053, Train: 1.0000, Val: 0.7820, Test: 0.7930\n",
      "Epoch: 054, Train: 1.0000, Val: 0.7820, Test: 0.7930\n",
      "Epoch: 055, Train: 1.0000, Val: 0.7820, Test: 0.7930\n",
      "Epoch: 056, Train: 1.0000, Val: 0.7820, Test: 0.7930\n",
      "Epoch: 057, Train: 1.0000, Val: 0.7820, Test: 0.7930\n",
      "Epoch: 058, Train: 1.0000, Val: 0.7820, Test: 0.7930\n",
      "Epoch: 059, Train: 1.0000, Val: 0.7820, Test: 0.7930\n",
      "Epoch: 060, Train: 1.0000, Val: 0.7820, Test: 0.7930\n",
      "Epoch: 061, Train: 1.0000, Val: 0.7820, Test: 0.7930\n",
      "Epoch: 062, Train: 1.0000, Val: 0.7820, Test: 0.7930\n",
      "Epoch: 063, Train: 1.0000, Val: 0.7820, Test: 0.7930\n",
      "Epoch: 064, Train: 1.0000, Val: 0.7820, Test: 0.7930\n",
      "Epoch: 065, Train: 1.0000, Val: 0.7820, Test: 0.7930\n",
      "Epoch: 066, Train: 1.0000, Val: 0.7820, Test: 0.7930\n",
      "Epoch: 067, Train: 1.0000, Val: 0.7820, Test: 0.7930\n",
      "Epoch: 068, Train: 1.0000, Val: 0.7820, Test: 0.7930\n",
      "Epoch: 069, Train: 1.0000, Val: 0.7820, Test: 0.7930\n",
      "Epoch: 070, Train: 1.0000, Val: 0.7820, Test: 0.7930\n",
      "Epoch: 071, Train: 1.0000, Val: 0.7820, Test: 0.7930\n",
      "Epoch: 072, Train: 1.0000, Val: 0.7820, Test: 0.7930\n",
      "Epoch: 073, Train: 1.0000, Val: 0.7820, Test: 0.7930\n",
      "Epoch: 074, Train: 1.0000, Val: 0.7820, Test: 0.7930\n",
      "Epoch: 075, Train: 1.0000, Val: 0.7820, Test: 0.7930\n",
      "Epoch: 076, Train: 1.0000, Val: 0.7820, Test: 0.7930\n",
      "Epoch: 077, Train: 1.0000, Val: 0.7820, Test: 0.7930\n",
      "Epoch: 078, Train: 1.0000, Val: 0.7820, Test: 0.7930\n",
      "Epoch: 079, Train: 1.0000, Val: 0.7820, Test: 0.7930\n",
      "Epoch: 080, Train: 1.0000, Val: 0.7820, Test: 0.7930\n",
      "Epoch: 081, Train: 1.0000, Val: 0.7820, Test: 0.7930\n",
      "Epoch: 082, Train: 1.0000, Val: 0.7820, Test: 0.7930\n",
      "Epoch: 083, Train: 1.0000, Val: 0.7820, Test: 0.7930\n",
      "Epoch: 084, Train: 1.0000, Val: 0.7820, Test: 0.7930\n",
      "Epoch: 085, Train: 1.0000, Val: 0.7820, Test: 0.7930\n",
      "Epoch: 086, Train: 1.0000, Val: 0.7820, Test: 0.7930\n",
      "Epoch: 087, Train: 1.0000, Val: 0.7820, Test: 0.7930\n",
      "Epoch: 088, Train: 1.0000, Val: 0.7820, Test: 0.7930\n",
      "Epoch: 089, Train: 1.0000, Val: 0.7820, Test: 0.7930\n",
      "Epoch: 090, Train: 1.0000, Val: 0.7820, Test: 0.7930\n",
      "Epoch: 091, Train: 1.0000, Val: 0.7820, Test: 0.7930\n",
      "Epoch: 092, Train: 1.0000, Val: 0.7820, Test: 0.7930\n",
      "Epoch: 093, Train: 1.0000, Val: 0.7820, Test: 0.7930\n",
      "Epoch: 094, Train: 1.0000, Val: 0.7820, Test: 0.7930\n",
      "Epoch: 095, Train: 1.0000, Val: 0.7820, Test: 0.7930\n",
      "Epoch: 096, Train: 1.0000, Val: 0.7820, Test: 0.7930\n",
      "Epoch: 097, Train: 1.0000, Val: 0.7820, Test: 0.7930\n",
      "Epoch: 098, Train: 1.0000, Val: 0.7820, Test: 0.7930\n",
      "Epoch: 099, Train: 1.0000, Val: 0.7820, Test: 0.7930\n",
      "Epoch: 100, Train: 1.0000, Val: 0.7820, Test: 0.7930\n"
     ]
    }
   ],
   "source": [
    "# PUTTING IT ALL TOGETHER\n",
    "best_val_acc = test_acc = 0\n",
    "for epoch in range(1, 101):\n",
    "    train()\n",
    "    train_acc, val_acc, tmp_test_acc = test()\n",
    "    if val_acc > best_val_acc:\n",
    "        best_val_acc = val_acc\n",
    "        test_acc = tmp_test_acc\n",
    "    print(f'Epoch: {epoch:03d}, Train: {train_acc:.4f}, '\n",
    "          f'Val: {best_val_acc:.4f}, Test: {test_acc:.4f}')"
   ]
  },
  {
   "cell_type": "code",
   "execution_count": null,
   "metadata": {},
   "outputs": [],
   "source": []
  }
 ],
 "metadata": {
  "kernelspec": {
   "display_name": "Python 3.8.10 64-bit",
   "language": "python",
   "name": "python3"
  },
  "language_info": {
   "codemirror_mode": {
    "name": "ipython",
    "version": 3
   },
   "file_extension": ".py",
   "mimetype": "text/x-python",
   "name": "python",
   "nbconvert_exporter": "python",
   "pygments_lexer": "ipython3",
   "version": "3.8.10"
  },
  "orig_nbformat": 4,
  "vscode": {
   "interpreter": {
    "hash": "767d51c1340bd893661ea55ea3124f6de3c7a262a8b4abca0554b478b1e2ff90"
   }
  }
 },
 "nbformat": 4,
 "nbformat_minor": 2
}
